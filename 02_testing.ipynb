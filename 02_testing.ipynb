{
 "cells": [
  {
   "cell_type": "code",
   "execution_count": null,
   "metadata": {},
   "outputs": [],
   "source": [
    "# default_exp testing"
   ]
  },
  {
   "cell_type": "markdown",
   "metadata": {},
   "source": [
    "# Example Module\n",
    "\n",
    "> This is the example module in the nbdevtest python library. It has a couple of functions to test the functionality of the library"
   ]
  },
  {
   "cell_type": "code",
   "execution_count": null,
   "metadata": {},
   "outputs": [],
   "source": [
    "#hide\n",
    "import random\n",
    "from nbdev.showdoc import *"
   ]
  },
  {
   "cell_type": "code",
   "execution_count": null,
   "metadata": {},
   "outputs": [],
   "source": [
    "#export\n",
    "def say_ciao_2(to:str) -> str:\n",
    "    \"\"\"A quick example of farewell function\n",
    "\n",
    "    :param to: The name of the person to say goodbye\n",
    "\n",
    "    :return: A string with a farewell\n",
    "    \"\"\"\n",
    "    return f\"Goodbye {to}!\""
   ]
  },
  {
   "cell_type": "code",
   "execution_count": null,
   "metadata": {},
   "outputs": [
    {
     "data": {
      "text/plain": "'Goodbye Don Salv!'"
     },
     "execution_count": null,
     "metadata": {},
     "output_type": "execute_result"
    }
   ],
   "source": [
    "say_ciao_2(\"Don Salv\")"
   ]
  },
  {
   "cell_type": "code",
   "execution_count": null,
   "metadata": {},
   "outputs": [],
   "source": [
    "#export\n",
    "def start_small_talk_2(to:str) -> str:\n",
    "    \"\"\"A second example of a quick function\n",
    "\n",
    "    :param to: The name of the person to start the small talk\n",
    "\n",
    "    :return: A string with a small talk sentence\n",
    "    \"\"\"\n",
    "    phrases = [\"Good Weather!\", \"Nice Try\", \"Maybe next time\"]\n",
    "\n",
    "\n",
    "    return f\"{random.choice(phrases)} {to}!\""
   ]
  },
  {
   "cell_type": "code",
   "execution_count": null,
   "metadata": {},
   "outputs": [
    {
     "data": {
      "text/plain": "'Good Weather! Don Salv!'"
     },
     "execution_count": null,
     "metadata": {},
     "output_type": "execute_result"
    }
   ],
   "source": [
    "start_small_talk_2(\"Don Salv\")"
   ]
  },
  {
   "cell_type": "code",
   "execution_count": null,
   "metadata": {},
   "outputs": [],
   "source": []
  }
 ],
 "metadata": {
  "kernelspec": {
   "display_name": "Python 3",
   "language": "python",
   "name": "python3"
  }
 },
 "nbformat": 4,
 "nbformat_minor": 0
}
